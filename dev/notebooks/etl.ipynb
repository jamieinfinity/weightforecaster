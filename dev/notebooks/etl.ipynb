{
 "cells": [
  {
   "cell_type": "markdown",
   "metadata": {},
   "source": [
    "## Setup"
   ]
  },
  {
   "cell_type": "code",
   "execution_count": null,
   "metadata": {
    "collapsed": true,
    "jupyter": {
     "outputs_hidden": true
    }
   },
   "outputs": [],
   "source": [
    "import sys\n",
    "toolpath = '/Users/jamieinfinity/Dropbox/Projects/WeightForecaster/weightforecaster/server/src'\n",
    "sys.path.append(toolpath)\n",
    "\n",
    "%load_ext autoreload\n",
    "%autoreload 2\n",
    "\n",
    "from wtfc_utils import etl_utils as etl\n",
    "\n",
    "import datetime\n",
    "# import time\n",
    "import configparser\n",
    "import json\n",
    "import requests\n",
    "from sqlalchemy import create_engine\n",
    "\n",
    "import numpy as np\n",
    "import pandas as pd\n",
    "import matplotlib.pyplot as plt\n",
    "\n",
    "import fitbit\n",
    "import myfitnesspal\n",
    "from nokia import NokiaAuth, NokiaApi, NokiaCredentials # Withings\n"
   ]
  },
  {
   "cell_type": "code",
   "execution_count": null,
   "metadata": {
    "collapsed": true,
    "jupyter": {
     "outputs_hidden": true
    }
   },
   "outputs": [],
   "source": [
    "server_dir = '/Users/jamieinfinity/Dropbox/Projects/WeightForecaster/weightforecaster/server/'\n",
    "cfg_file = server_dir + 'config/api_params.cfg'\n",
    "db_dir = server_dir + 'db/'\n",
    "backups_dir = db_dir + 'backups/'\n",
    "db_name = 'weightforecaster'\n",
    "db_ext = '.db'\n",
    "db_file_name = db_dir + db_name + db_ext"
   ]
  },
  {
   "cell_type": "code",
   "execution_count": null,
   "metadata": {
    "collapsed": true,
    "jupyter": {
     "outputs_hidden": true
    }
   },
   "outputs": [],
   "source": [
    "db_file_name"
   ]
  },
  {
   "cell_type": "markdown",
   "metadata": {},
   "source": [
    "## Load DB"
   ]
  },
  {
   "cell_type": "code",
   "execution_count": null,
   "metadata": {
    "collapsed": true,
    "jupyter": {
     "outputs_hidden": true
    }
   },
   "outputs": [],
   "source": [
    "# See: https://pandas.pydata.org/pandas-docs/stable/io.html#advanced-sqlalchemy-queries\n",
    "engine = create_engine('sqlite:///'+db_file_name)"
   ]
  },
  {
   "cell_type": "code",
   "execution_count": null,
   "metadata": {
    "collapsed": true,
    "jupyter": {
     "outputs_hidden": true
    }
   },
   "outputs": [],
   "source": [
    "with engine.connect() as conn, conn.begin():\n",
    "    db_df = pd.read_sql_table('fitness', conn, index_col='date', parse_dates=['date'])"
   ]
  },
  {
   "cell_type": "code",
   "execution_count": null,
   "metadata": {
    "collapsed": true,
    "jupyter": {
     "outputs_hidden": true
    }
   },
   "outputs": [],
   "source": [
    "db_df.tail(5)"
   ]
  },
  {
   "cell_type": "markdown",
   "metadata": {
    "collapsed": "true"
   },
   "source": [
    "## Initialize API configs"
   ]
  },
  {
   "cell_type": "markdown",
   "metadata": {
    "collapsed": "true"
   },
   "source": [
    "### Nokia / Withings"
   ]
  },
  {
   "cell_type": "markdown",
   "metadata": {
    "Collapsed": "false"
   },
   "source": [
    "See the following:\n",
    "- https://github.com/orcasgit/python-nokia\n",
    "- https://github.com/orcasgit/python-nokia/blob/master/nokia/__init__.py"
   ]
  },
  {
   "cell_type": "code",
   "execution_count": null,
   "metadata": {
    "Collapsed": "false"
   },
   "outputs": [],
   "source": [
    "parser = configparser.ConfigParser()\n",
    "parser.read(cfg_file)\n",
    "CLIENT_ID = parser.get('withings', 'client_id')\n",
    "CLIENT_SECRET = parser.get('withings', 'client_secret')\n",
    "REDIRECT_URI = parser.get('withings', 'redirect_uri')\n",
    "\n",
    "auth = NokiaAuth(CLIENT_ID, CLIENT_SECRET, callback_uri=REDIRECT_URI)\n",
    "authorize_url = auth.get_authorize_url()\n",
    "\n",
    "# open the following in a browser, click allow, it redirects. Copy the 'code' parameter from that url.\n",
    "print(authorize_url)"
   ]
  },
  {
   "cell_type": "code",
   "execution_count": null,
   "metadata": {
    "Collapsed": "false"
   },
   "outputs": [],
   "source": [
    "# set this to the alphanumeric string value appearing for the 'code' parameter in the url\n",
    "code = 'xxx'"
   ]
  },
  {
   "cell_type": "code",
   "execution_count": null,
   "metadata": {
    "Collapsed": "false"
   },
   "outputs": [],
   "source": [
    "res = requests.post(url = 'https://account.withings.com/oauth2/token', \n",
    "              data = {\n",
    "                  'grant_type':'authorization_code',\n",
    "                  'client_id':CLIENT_ID,\n",
    "                  'client_secret':CLIENT_SECRET,\n",
    "                  'redirect_uri':REDIRECT_URI,\n",
    "                  'code':code\n",
    "              })   \n",
    "token_dict = json.loads(res.content)\n",
    "token_dict"
   ]
  },
  {
   "cell_type": "code",
   "execution_count": null,
   "metadata": {
    "Collapsed": "false"
   },
   "outputs": [],
   "source": [
    "etl.persist_nokia_refresh_token(token_dict, cfg_file)"
   ]
  },
  {
   "cell_type": "markdown",
   "metadata": {
    "collapsed": "true"
   },
   "source": [
    "### Fitbit"
   ]
  },
  {
   "cell_type": "markdown",
   "metadata": {
    "Collapsed": "false"
   },
   "source": [
    "See the following:\n",
    "\n",
    "- https://python-fitbit.readthedocs.io/en/latest/"
   ]
  },
  {
   "cell_type": "markdown",
   "metadata": {
    "Collapsed": "false"
   },
   "source": [
    "In a terminal, cd to location of python-fitbit repo (clone it from github: https://github.com/orcasgit/python-fitbit).\n",
    "\n",
    "Then run the following:\n",
    "\n",
    "```\n",
    "python gather_keys_oauth2.py <client_key> <client_secret>\n",
    "```\n",
    "\n",
    "This script has a callback function for persisting the refresh token. Make sure the path to the api_params.cfg file is properly set (probably good to test it out…)"
   ]
  },
  {
   "cell_type": "markdown",
   "metadata": {
    "collapsed": "false"
   },
   "source": [
    "### MyFitnessPal"
   ]
  },
  {
   "cell_type": "markdown",
   "metadata": {
    "Collapsed": "false"
   },
   "source": [
    "See the following:\n",
    "\n",
    "- https://github.com/coddingtonbear/python-myfitnesspal"
   ]
  },
  {
   "cell_type": "markdown",
   "metadata": {
    "Collapsed": "false"
   },
   "source": [
    "In a terminal, run the following command to set up authentication (locally storing your user credentials):\n",
    "\n",
    "```\n",
    "myfitnesspal store-password my_username\n",
    "```"
   ]
  },
  {
   "cell_type": "markdown",
   "metadata": {},
   "source": [
    "## Test etl scripting"
   ]
  },
  {
   "cell_type": "code",
   "execution_count": null,
   "metadata": {},
   "outputs": [],
   "source": [
    "db_df_updated = db_df.copy()"
   ]
  },
  {
   "cell_type": "code",
   "execution_count": null,
   "metadata": {},
   "outputs": [],
   "source": [
    "etl.get_target_date_endpoints('steps', db_df_updated)"
   ]
  },
  {
   "cell_type": "markdown",
   "metadata": {
    "collapsed": "false"
   },
   "source": [
    "### Fitbit"
   ]
  },
  {
   "cell_type": "code",
   "execution_count": null,
   "metadata": {},
   "outputs": [],
   "source": [
    "db_df_updated = etl.refresh_steps(cfg_file, engine, db_df_updated)"
   ]
  },
  {
   "cell_type": "code",
   "execution_count": null,
   "metadata": {},
   "outputs": [],
   "source": [
    "db_df_updated.tail(28)"
   ]
  },
  {
   "cell_type": "markdown",
   "metadata": {
    "collapsed": "false"
   },
   "source": [
    "### MyFitnessPal"
   ]
  },
  {
   "cell_type": "code",
   "execution_count": null,
   "metadata": {},
   "outputs": [],
   "source": [
    "db_df_updated = etl.refresh_calories(engine, db_df_updated)"
   ]
  },
  {
   "cell_type": "code",
   "execution_count": null,
   "metadata": {},
   "outputs": [],
   "source": [
    "db_df_updated.tail(28)"
   ]
  },
  {
   "cell_type": "markdown",
   "metadata": {
    "collapsed": "false"
   },
   "source": [
    "### Nokia / Withings"
   ]
  },
  {
   "cell_type": "code",
   "execution_count": null,
   "metadata": {},
   "outputs": [],
   "source": [
    "db_df_updated = etl.refresh_weight(cfg_file, engine, db_df_updated)"
   ]
  },
  {
   "cell_type": "code",
   "execution_count": null,
   "metadata": {},
   "outputs": [],
   "source": [
    "db_df_updated[db_df_updated.index > '2019-10-30']"
   ]
  },
  {
   "cell_type": "markdown",
   "metadata": {},
   "source": [
    "## Impute weight"
   ]
  },
  {
   "cell_type": "code",
   "execution_count": null,
   "metadata": {},
   "outputs": [],
   "source": [
    "db_df_updated = etl.impute_missing_weights(engine, db_df_updated)"
   ]
  },
  {
   "cell_type": "code",
   "execution_count": null,
   "metadata": {},
   "outputs": [],
   "source": [
    "db_df_updated[db_df_updated.index > '2019-10-30']"
   ]
  },
  {
   "cell_type": "markdown",
   "metadata": {},
   "source": [
    "## Add rolling week-averaged columns"
   ]
  },
  {
   "cell_type": "code",
   "execution_count": null,
   "metadata": {},
   "outputs": [],
   "source": [
    "db_df_updated = etl.add_roll_avg_columns(engine, db_df_updated)"
   ]
  },
  {
   "cell_type": "code",
   "execution_count": null,
   "metadata": {},
   "outputs": [],
   "source": [
    "db_df_updated.tail(21)"
   ]
  },
  {
   "cell_type": "code",
   "execution_count": null,
   "metadata": {},
   "outputs": [],
   "source": []
  },
  {
   "cell_type": "code",
   "execution_count": null,
   "metadata": {},
   "outputs": [],
   "source": []
  }
 ],
 "metadata": {
  "kernelspec": {
   "display_name": "Python 3",
   "language": "python",
   "name": "python3"
  },
  "language_info": {
   "codemirror_mode": {
    "name": "ipython",
    "version": 3
   },
   "file_extension": ".py",
   "mimetype": "text/x-python",
   "name": "python",
   "nbconvert_exporter": "python",
   "pygments_lexer": "ipython3",
   "version": "3.7.6"
  }
 },
 "nbformat": 4,
 "nbformat_minor": 4
}
