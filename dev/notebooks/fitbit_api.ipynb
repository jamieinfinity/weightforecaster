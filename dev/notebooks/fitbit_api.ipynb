{
 "cells": [
  {
   "cell_type": "markdown",
   "metadata": {},
   "source": [
    "# Using Fitbit API V1.2 to get better sleep data"
   ]
  },
  {
   "cell_type": "markdown",
   "metadata": {},
   "source": [
    "## Setup"
   ]
  },
  {
   "cell_type": "code",
   "execution_count": 1,
   "metadata": {},
   "outputs": [],
   "source": [
    "import shutil\n",
    "import datetime\n",
    "import time\n",
    "import numpy as np\n",
    "import pandas as pd\n",
    "import configparser\n",
    "import fitbit\n",
    "import json\n",
    "\n",
    "pd.set_option('display.max_rows', 500)"
   ]
  },
  {
   "cell_type": "code",
   "execution_count": 2,
   "metadata": {},
   "outputs": [],
   "source": [
    "# config file\n",
    "server_dir = '/Users/jamieinfinity/Dropbox/Projects/WeightForecaster/weightforecaster/server/'\n",
    "cfg_file = server_dir + 'config/api_params.cfg'"
   ]
  },
  {
   "cell_type": "markdown",
   "metadata": {},
   "source": [
    "### Functions"
   ]
  },
  {
   "cell_type": "code",
   "execution_count": 3,
   "metadata": {},
   "outputs": [],
   "source": [
    "def persist_fitbit_refresh_token(token_dict, cfg_file):\n",
    "    parser = configparser.ConfigParser()\n",
    "    parser.read(cfg_file)\n",
    "    parser.set('fitbit', 'access_token', token_dict['access_token'])\n",
    "    parser.set('fitbit', 'refresh_token', token_dict['refresh_token'])\n",
    "    parser.set('fitbit', 'expires_at', \"{:.6f}\".format(token_dict['expires_at']))\n",
    "    with open(cfg_file, 'w') as configfile:\n",
    "        parser.write(configfile)\n",
    "\n",
    "\n",
    "def ts():\n",
    "    return int((\n",
    "        datetime.datetime.utcnow() - datetime.datetime(1970, 1, 1)\n",
    "    ).total_seconds())\n"
   ]
  },
  {
   "cell_type": "code",
   "execution_count": 4,
   "metadata": {},
   "outputs": [],
   "source": [
    "parser = configparser.ConfigParser()\n",
    "parser.read(cfg_file)\n",
    "consumer_key = parser.get('fitbit', 'consumer_key')\n",
    "consumer_secret = parser.get('fitbit', 'consumer_secret')\n",
    "access_token = parser.get('fitbit', 'access_token')\n",
    "refresh_token = parser.get('fitbit', 'refresh_token')\n",
    "expires_at = parser.get('fitbit', 'expires_at')\n",
    "\n",
    "auth_client = fitbit.Fitbit(consumer_key, consumer_secret,\n",
    "                            access_token=access_token,\n",
    "                            refresh_token=refresh_token,\n",
    "                            expires_at=float(expires_at),\n",
    "                            refresh_cb=(lambda x: persist_fitbit_refresh_token(x, cfg_file)),\n",
    "                            api_version=1.2\n",
    "                            )"
   ]
  },
  {
   "cell_type": "code",
   "execution_count": 8,
   "metadata": {},
   "outputs": [],
   "source": [
    "date = datetime.datetime(2020, 10, 3)\n",
    "res = auth_client.get_sleep(date)"
   ]
  },
  {
   "cell_type": "code",
   "execution_count": 9,
   "metadata": {},
   "outputs": [
    {
     "data": {
      "text/plain": [
       "{'sleep': [{'dateOfSleep': '2020-10-03',\n",
       "   'duration': 11520000,\n",
       "   'efficiency': 93,\n",
       "   'endTime': '2020-10-03T17:49:00.000',\n",
       "   'infoCode': 0,\n",
       "   'isMainSleep': False,\n",
       "   'levels': {'data': [{'dateTime': '2020-10-03T14:37:00.000',\n",
       "      'level': 'wake',\n",
       "      'seconds': 330},\n",
       "     {'dateTime': '2020-10-03T14:42:30.000',\n",
       "      'level': 'light',\n",
       "      'seconds': 2910},\n",
       "     {'dateTime': '2020-10-03T15:31:00.000', 'level': 'deep', 'seconds': 1140},\n",
       "     {'dateTime': '2020-10-03T15:50:00.000', 'level': 'light', 'seconds': 750},\n",
       "     {'dateTime': '2020-10-03T16:02:30.000', 'level': 'deep', 'seconds': 360},\n",
       "     {'dateTime': '2020-10-03T16:08:30.000',\n",
       "      'level': 'light',\n",
       "      'seconds': 1770},\n",
       "     {'dateTime': '2020-10-03T16:38:00.000', 'level': 'deep', 'seconds': 390},\n",
       "     {'dateTime': '2020-10-03T16:44:30.000',\n",
       "      'level': 'light',\n",
       "      'seconds': 1650},\n",
       "     {'dateTime': '2020-10-03T17:12:00.000',\n",
       "      'level': 'wake',\n",
       "      'seconds': 2220}],\n",
       "    'shortData': [{'dateTime': '2020-10-03T14:50:30.000',\n",
       "      'level': 'wake',\n",
       "      'seconds': 60},\n",
       "     {'dateTime': '2020-10-03T15:04:00.000', 'level': 'wake', 'seconds': 90},\n",
       "     {'dateTime': '2020-10-03T16:08:30.000', 'level': 'wake', 'seconds': 60}],\n",
       "    'summary': {'deep': {'count': 3, 'minutes': 32, 'thirtyDayAvgMinutes': 53},\n",
       "     'light': {'count': 6, 'minutes': 114, 'thirtyDayAvgMinutes': 202},\n",
       "     'rem': {'count': 0, 'minutes': 0, 'thirtyDayAvgMinutes': 62},\n",
       "     'wake': {'count': 5, 'minutes': 46, 'thirtyDayAvgMinutes': 49}}},\n",
       "   'logId': 29126697037,\n",
       "   'minutesAfterWakeup': 0,\n",
       "   'minutesAsleep': 146,\n",
       "   'minutesAwake': 46,\n",
       "   'minutesToFallAsleep': 0,\n",
       "   'startTime': '2020-10-03T14:37:00.000',\n",
       "   'timeInBed': 192,\n",
       "   'type': 'stages'},\n",
       "  {'dateOfSleep': '2020-10-03',\n",
       "   'duration': 28020000,\n",
       "   'efficiency': 98,\n",
       "   'endTime': '2020-10-03T07:38:30.000',\n",
       "   'infoCode': 0,\n",
       "   'isMainSleep': True,\n",
       "   'levels': {'data': [{'dateTime': '2020-10-02T23:51:00.000',\n",
       "      'level': 'wake',\n",
       "      'seconds': 30},\n",
       "     {'dateTime': '2020-10-02T23:51:30.000',\n",
       "      'level': 'light',\n",
       "      'seconds': 2880},\n",
       "     {'dateTime': '2020-10-03T00:39:30.000', 'level': 'deep', 'seconds': 930},\n",
       "     {'dateTime': '2020-10-03T00:55:00.000', 'level': 'light', 'seconds': 30},\n",
       "     {'dateTime': '2020-10-03T00:55:30.000', 'level': 'rem', 'seconds': 1710},\n",
       "     {'dateTime': '2020-10-03T01:24:00.000',\n",
       "      'level': 'light',\n",
       "      'seconds': 1980},\n",
       "     {'dateTime': '2020-10-03T01:57:00.000', 'level': 'rem', 'seconds': 360},\n",
       "     {'dateTime': '2020-10-03T02:03:00.000',\n",
       "      'level': 'light',\n",
       "      'seconds': 3030},\n",
       "     {'dateTime': '2020-10-03T02:53:30.000', 'level': 'deep', 'seconds': 600},\n",
       "     {'dateTime': '2020-10-03T03:03:30.000', 'level': 'light', 'seconds': 90},\n",
       "     {'dateTime': '2020-10-03T03:05:00.000', 'level': 'rem', 'seconds': 1380},\n",
       "     {'dateTime': '2020-10-03T03:28:00.000', 'level': 'wake', 'seconds': 1260},\n",
       "     {'dateTime': '2020-10-03T03:49:00.000',\n",
       "      'level': 'light',\n",
       "      'seconds': 1170},\n",
       "     {'dateTime': '2020-10-03T04:08:30.000', 'level': 'deep', 'seconds': 300},\n",
       "     {'dateTime': '2020-10-03T04:13:30.000',\n",
       "      'level': 'light',\n",
       "      'seconds': 2100},\n",
       "     {'dateTime': '2020-10-03T04:48:30.000', 'level': 'wake', 'seconds': 480},\n",
       "     {'dateTime': '2020-10-03T04:56:30.000',\n",
       "      'level': 'light',\n",
       "      'seconds': 1020},\n",
       "     {'dateTime': '2020-10-03T05:13:30.000', 'level': 'rem', 'seconds': 270},\n",
       "     {'dateTime': '2020-10-03T05:18:00.000',\n",
       "      'level': 'light',\n",
       "      'seconds': 2190},\n",
       "     {'dateTime': '2020-10-03T05:54:30.000', 'level': 'deep', 'seconds': 780},\n",
       "     {'dateTime': '2020-10-03T06:07:30.000',\n",
       "      'level': 'light',\n",
       "      'seconds': 2340},\n",
       "     {'dateTime': '2020-10-03T06:46:30.000', 'level': 'rem', 'seconds': 780},\n",
       "     {'dateTime': '2020-10-03T06:59:30.000', 'level': 'light', 'seconds': 540},\n",
       "     {'dateTime': '2020-10-03T07:08:30.000', 'level': 'wake', 'seconds': 600},\n",
       "     {'dateTime': '2020-10-03T07:18:30.000', 'level': 'light', 'seconds': 300},\n",
       "     {'dateTime': '2020-10-03T07:23:30.000', 'level': 'wake', 'seconds': 900}],\n",
       "    'shortData': [{'dateTime': '2020-10-02T23:51:00.000',\n",
       "      'level': 'wake',\n",
       "      'seconds': 120},\n",
       "     {'dateTime': '2020-10-02T23:55:00.000', 'level': 'wake', 'seconds': 60},\n",
       "     {'dateTime': '2020-10-02T23:59:00.000', 'level': 'wake', 'seconds': 60},\n",
       "     {'dateTime': '2020-10-03T00:12:30.000', 'level': 'wake', 'seconds': 120},\n",
       "     {'dateTime': '2020-10-03T00:54:30.000', 'level': 'wake', 'seconds': 30},\n",
       "     {'dateTime': '2020-10-03T01:24:00.000', 'level': 'wake', 'seconds': 60},\n",
       "     {'dateTime': '2020-10-03T02:25:00.000', 'level': 'wake', 'seconds': 30},\n",
       "     {'dateTime': '2020-10-03T04:15:00.000', 'level': 'wake', 'seconds': 30},\n",
       "     {'dateTime': '2020-10-03T04:27:00.000', 'level': 'wake', 'seconds': 120},\n",
       "     {'dateTime': '2020-10-03T04:31:00.000', 'level': 'wake', 'seconds': 30},\n",
       "     {'dateTime': '2020-10-03T04:34:30.000', 'level': 'wake', 'seconds': 30},\n",
       "     {'dateTime': '2020-10-03T04:36:30.000', 'level': 'wake', 'seconds': 60},\n",
       "     {'dateTime': '2020-10-03T04:39:30.000', 'level': 'wake', 'seconds': 30},\n",
       "     {'dateTime': '2020-10-03T05:29:00.000', 'level': 'wake', 'seconds': 30},\n",
       "     {'dateTime': '2020-10-03T06:30:00.000', 'level': 'wake', 'seconds': 60},\n",
       "     {'dateTime': '2020-10-03T06:36:00.000', 'level': 'wake', 'seconds': 30},\n",
       "     {'dateTime': '2020-10-03T06:56:30.000', 'level': 'wake', 'seconds': 180}],\n",
       "    'summary': {'deep': {'count': 4, 'minutes': 43, 'thirtyDayAvgMinutes': 53},\n",
       "     'light': {'count': 25, 'minutes': 280, 'thirtyDayAvgMinutes': 202},\n",
       "     'rem': {'count': 5, 'minutes': 72, 'thirtyDayAvgMinutes': 62},\n",
       "     'wake': {'count': 21, 'minutes': 72, 'thirtyDayAvgMinutes': 49}}},\n",
       "   'logId': 29119532885,\n",
       "   'minutesAfterWakeup': 8,\n",
       "   'minutesAsleep': 395,\n",
       "   'minutesAwake': 72,\n",
       "   'minutesToFallAsleep': 0,\n",
       "   'startTime': '2020-10-02T23:51:00.000',\n",
       "   'timeInBed': 467,\n",
       "   'type': 'stages'}],\n",
       " 'summary': {'stages': {'deep': 74, 'light': 395, 'rem': 72, 'wake': 118},\n",
       "  'totalMinutesAsleep': 541,\n",
       "  'totalSleepRecords': 2,\n",
       "  'totalTimeInBed': 659}}"
      ]
     },
     "execution_count": 9,
     "metadata": {},
     "output_type": "execute_result"
    }
   ],
   "source": [
    "res"
   ]
  },
  {
   "cell_type": "code",
   "execution_count": null,
   "metadata": {},
   "outputs": [],
   "source": []
  },
  {
   "cell_type": "code",
   "execution_count": null,
   "metadata": {},
   "outputs": [],
   "source": []
  },
  {
   "cell_type": "code",
   "execution_count": null,
   "metadata": {},
   "outputs": [],
   "source": []
  },
  {
   "cell_type": "code",
   "execution_count": null,
   "metadata": {},
   "outputs": [],
   "source": []
  },
  {
   "cell_type": "code",
   "execution_count": null,
   "metadata": {},
   "outputs": [],
   "source": []
  },
  {
   "cell_type": "code",
   "execution_count": null,
   "metadata": {},
   "outputs": [],
   "source": []
  },
  {
   "cell_type": "code",
   "execution_count": null,
   "metadata": {},
   "outputs": [],
   "source": []
  },
  {
   "cell_type": "code",
   "execution_count": null,
   "metadata": {},
   "outputs": [],
   "source": []
  },
  {
   "cell_type": "code",
   "execution_count": null,
   "metadata": {},
   "outputs": [],
   "source": []
  },
  {
   "cell_type": "code",
   "execution_count": null,
   "metadata": {},
   "outputs": [],
   "source": []
  },
  {
   "cell_type": "code",
   "execution_count": null,
   "metadata": {},
   "outputs": [],
   "source": []
  },
  {
   "cell_type": "code",
   "execution_count": null,
   "metadata": {},
   "outputs": [],
   "source": []
  },
  {
   "cell_type": "code",
   "execution_count": null,
   "metadata": {},
   "outputs": [],
   "source": []
  },
  {
   "cell_type": "code",
   "execution_count": null,
   "metadata": {},
   "outputs": [],
   "source": []
  },
  {
   "cell_type": "code",
   "execution_count": null,
   "metadata": {},
   "outputs": [],
   "source": []
  },
  {
   "cell_type": "code",
   "execution_count": null,
   "metadata": {},
   "outputs": [],
   "source": []
  },
  {
   "cell_type": "code",
   "execution_count": null,
   "metadata": {},
   "outputs": [],
   "source": []
  },
  {
   "cell_type": "code",
   "execution_count": null,
   "metadata": {},
   "outputs": [],
   "source": []
  },
  {
   "cell_type": "code",
   "execution_count": null,
   "metadata": {},
   "outputs": [],
   "source": []
  }
 ],
 "metadata": {
  "kernelspec": {
   "display_name": "Python 3",
   "language": "python",
   "name": "python3"
  },
  "language_info": {
   "codemirror_mode": {
    "name": "ipython",
    "version": 3
   },
   "file_extension": ".py",
   "mimetype": "text/x-python",
   "name": "python",
   "nbconvert_exporter": "python",
   "pygments_lexer": "ipython3",
   "version": "3.7.6"
  }
 },
 "nbformat": 4,
 "nbformat_minor": 4
}
